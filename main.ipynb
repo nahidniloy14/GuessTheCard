{
 "cells": [
  {
   "cell_type": "code",
   "execution_count": null,
   "id": "315835f7",
   "metadata": {},
   "outputs": [],
   "source": [
    "#Guess who got the card\n",
    "#shuffle cards\n",
    "cards=['heart','dice','spades','clubs']\n",
    "from random import shuffle\n",
    "#shuffle does not work without a function\n",
    "def shuffle_cards(cards):\n",
    "    shuffle(cards)\n",
    "    return cards\n",
    "\n",
    "\n",
    "num=['1','2','3','4']\n",
    "num=input(\"Chose Player Number: \")\n",
    "if num=='1'or num=='2'or num=='3'or num=='4':\n",
    "    print(f'Lets check if player {num} has the {pcards} or not')\n",
    "else:\n",
    "    print(\"invalid\")\n",
    "shuffle_result=shuffle_cards(cards)\n",
    "shuffle_result\n",
    "print(\"player 1 got\",shuffle_result[0])\n",
    "print(\"player 2 got\",shuffle_result[1])\n",
    "print(\"player 3 got\",shuffle_result[2])\n",
    "print(\"player 4 got\",shuffle_result[3])\n",
    "show_result=shuffle_result.index('spades')\n",
    "show_result=show_result+1\n",
    "show_result\n",
    "print(f' Player {show_result} got the card')\n",
    "guessed_player=int(num)\n",
    "guessed_player\n",
    "print(f'Guessed player number was {guessed_player}')\n",
    "if show_result == guessed_player:\n",
    "    print(f'Correct Guess, Player {num} has {pcards}')\n",
    "\n",
    "else:\n",
    "    print(\"Wrong Guess\")"
   ]
  }
 ],
 "metadata": {
  "kernelspec": {
   "display_name": "Python 3 (ipykernel)",
   "language": "python",
   "name": "python3"
  },
  "language_info": {
   "codemirror_mode": {
    "name": "ipython",
    "version": 3
   },
   "file_extension": ".py",
   "mimetype": "text/x-python",
   "name": "python",
   "nbconvert_exporter": "python",
   "pygments_lexer": "ipython3",
   "version": "3.10.4"
  }
 },
 "nbformat": 4,
 "nbformat_minor": 5
}
